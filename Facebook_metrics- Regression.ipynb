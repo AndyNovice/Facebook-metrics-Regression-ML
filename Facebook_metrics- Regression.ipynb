{
 "cells": [
  {
   "cell_type": "code",
   "execution_count": 1,
   "metadata": {},
   "outputs": [],
   "source": [
    "#Importing the libraries\n",
    "import pandas as pd\n",
    "import numpy as np\n",
    "import matplotlib.pyplot as plt\n",
    "import seaborn as sns"
   ]
  },
  {
   "cell_type": "code",
   "execution_count": 2,
   "metadata": {},
   "outputs": [],
   "source": [
    "#Importing the dataset\n",
    "dataset = pd.read_csv('dataset_Facebook.csv',delimiter=';')"
   ]
  },
  {
   "cell_type": "code",
   "execution_count": 3,
   "metadata": {},
   "outputs": [
    {
     "name": "stdout",
     "output_type": "stream",
     "text": [
      "<class 'pandas.core.frame.DataFrame'>\n",
      "RangeIndex: 500 entries, 0 to 499\n",
      "Data columns (total 19 columns):\n",
      "Page total likes                                                       500 non-null int64\n",
      "Type                                                                   500 non-null object\n",
      "Category                                                               500 non-null int64\n",
      "Post Month                                                             500 non-null int64\n",
      "Post Weekday                                                           500 non-null int64\n",
      "Post Hour                                                              500 non-null int64\n",
      "Paid                                                                   499 non-null float64\n",
      "Lifetime Post Total Reach                                              500 non-null int64\n",
      "Lifetime Post Total Impressions                                        500 non-null int64\n",
      "Lifetime Engaged Users                                                 500 non-null int64\n",
      "Lifetime Post Consumers                                                500 non-null int64\n",
      "Lifetime Post Consumptions                                             500 non-null int64\n",
      "Lifetime Post Impressions by people who have liked your Page           500 non-null int64\n",
      "Lifetime Post reach by people who like your Page                       500 non-null int64\n",
      "Lifetime People who have liked your Page and engaged with your post    500 non-null int64\n",
      "comment                                                                500 non-null int64\n",
      "like                                                                   499 non-null float64\n",
      "share                                                                  496 non-null float64\n",
      "Total Interactions                                                     500 non-null int64\n",
      "dtypes: float64(3), int64(15), object(1)\n",
      "memory usage: 74.3+ KB\n"
     ]
    }
   ],
   "source": [
    "dataset.info()"
   ]
  },
  {
   "cell_type": "code",
   "execution_count": 4,
   "metadata": {},
   "outputs": [
    {
     "data": {
      "text/html": [
       "<div>\n",
       "<style scoped>\n",
       "    .dataframe tbody tr th:only-of-type {\n",
       "        vertical-align: middle;\n",
       "    }\n",
       "\n",
       "    .dataframe tbody tr th {\n",
       "        vertical-align: top;\n",
       "    }\n",
       "\n",
       "    .dataframe thead th {\n",
       "        text-align: right;\n",
       "    }\n",
       "</style>\n",
       "<table border=\"1\" class=\"dataframe\">\n",
       "  <thead>\n",
       "    <tr style=\"text-align: right;\">\n",
       "      <th></th>\n",
       "      <th>Page total likes</th>\n",
       "      <th>Type</th>\n",
       "      <th>Category</th>\n",
       "      <th>Post Month</th>\n",
       "      <th>Post Weekday</th>\n",
       "      <th>Post Hour</th>\n",
       "      <th>Paid</th>\n",
       "      <th>Lifetime Post Total Reach</th>\n",
       "      <th>Lifetime Post Total Impressions</th>\n",
       "      <th>Lifetime Engaged Users</th>\n",
       "      <th>Lifetime Post Consumers</th>\n",
       "      <th>Lifetime Post Consumptions</th>\n",
       "      <th>Lifetime Post Impressions by people who have liked your Page</th>\n",
       "      <th>Lifetime Post reach by people who like your Page</th>\n",
       "      <th>Lifetime People who have liked your Page and engaged with your post</th>\n",
       "      <th>comment</th>\n",
       "      <th>like</th>\n",
       "      <th>share</th>\n",
       "      <th>Total Interactions</th>\n",
       "    </tr>\n",
       "  </thead>\n",
       "  <tbody>\n",
       "    <tr>\n",
       "      <td>0</td>\n",
       "      <td>139441</td>\n",
       "      <td>Photo</td>\n",
       "      <td>2</td>\n",
       "      <td>12</td>\n",
       "      <td>4</td>\n",
       "      <td>3</td>\n",
       "      <td>0.0</td>\n",
       "      <td>2752</td>\n",
       "      <td>5091</td>\n",
       "      <td>178</td>\n",
       "      <td>109</td>\n",
       "      <td>159</td>\n",
       "      <td>3078</td>\n",
       "      <td>1640</td>\n",
       "      <td>119</td>\n",
       "      <td>4</td>\n",
       "      <td>79.0</td>\n",
       "      <td>17.0</td>\n",
       "      <td>100</td>\n",
       "    </tr>\n",
       "    <tr>\n",
       "      <td>1</td>\n",
       "      <td>139441</td>\n",
       "      <td>Status</td>\n",
       "      <td>2</td>\n",
       "      <td>12</td>\n",
       "      <td>3</td>\n",
       "      <td>10</td>\n",
       "      <td>0.0</td>\n",
       "      <td>10460</td>\n",
       "      <td>19057</td>\n",
       "      <td>1457</td>\n",
       "      <td>1361</td>\n",
       "      <td>1674</td>\n",
       "      <td>11710</td>\n",
       "      <td>6112</td>\n",
       "      <td>1108</td>\n",
       "      <td>5</td>\n",
       "      <td>130.0</td>\n",
       "      <td>29.0</td>\n",
       "      <td>164</td>\n",
       "    </tr>\n",
       "    <tr>\n",
       "      <td>2</td>\n",
       "      <td>139441</td>\n",
       "      <td>Photo</td>\n",
       "      <td>3</td>\n",
       "      <td>12</td>\n",
       "      <td>3</td>\n",
       "      <td>3</td>\n",
       "      <td>0.0</td>\n",
       "      <td>2413</td>\n",
       "      <td>4373</td>\n",
       "      <td>177</td>\n",
       "      <td>113</td>\n",
       "      <td>154</td>\n",
       "      <td>2812</td>\n",
       "      <td>1503</td>\n",
       "      <td>132</td>\n",
       "      <td>0</td>\n",
       "      <td>66.0</td>\n",
       "      <td>14.0</td>\n",
       "      <td>80</td>\n",
       "    </tr>\n",
       "    <tr>\n",
       "      <td>3</td>\n",
       "      <td>139441</td>\n",
       "      <td>Photo</td>\n",
       "      <td>2</td>\n",
       "      <td>12</td>\n",
       "      <td>2</td>\n",
       "      <td>10</td>\n",
       "      <td>1.0</td>\n",
       "      <td>50128</td>\n",
       "      <td>87991</td>\n",
       "      <td>2211</td>\n",
       "      <td>790</td>\n",
       "      <td>1119</td>\n",
       "      <td>61027</td>\n",
       "      <td>32048</td>\n",
       "      <td>1386</td>\n",
       "      <td>58</td>\n",
       "      <td>1572.0</td>\n",
       "      <td>147.0</td>\n",
       "      <td>1777</td>\n",
       "    </tr>\n",
       "    <tr>\n",
       "      <td>4</td>\n",
       "      <td>139441</td>\n",
       "      <td>Photo</td>\n",
       "      <td>2</td>\n",
       "      <td>12</td>\n",
       "      <td>2</td>\n",
       "      <td>3</td>\n",
       "      <td>0.0</td>\n",
       "      <td>7244</td>\n",
       "      <td>13594</td>\n",
       "      <td>671</td>\n",
       "      <td>410</td>\n",
       "      <td>580</td>\n",
       "      <td>6228</td>\n",
       "      <td>3200</td>\n",
       "      <td>396</td>\n",
       "      <td>19</td>\n",
       "      <td>325.0</td>\n",
       "      <td>49.0</td>\n",
       "      <td>393</td>\n",
       "    </tr>\n",
       "  </tbody>\n",
       "</table>\n",
       "</div>"
      ],
      "text/plain": [
       "   Page total likes    Type  Category  Post Month  Post Weekday  Post Hour  \\\n",
       "0            139441   Photo         2          12             4          3   \n",
       "1            139441  Status         2          12             3         10   \n",
       "2            139441   Photo         3          12             3          3   \n",
       "3            139441   Photo         2          12             2         10   \n",
       "4            139441   Photo         2          12             2          3   \n",
       "\n",
       "   Paid  Lifetime Post Total Reach  Lifetime Post Total Impressions  \\\n",
       "0   0.0                       2752                             5091   \n",
       "1   0.0                      10460                            19057   \n",
       "2   0.0                       2413                             4373   \n",
       "3   1.0                      50128                            87991   \n",
       "4   0.0                       7244                            13594   \n",
       "\n",
       "   Lifetime Engaged Users  Lifetime Post Consumers  \\\n",
       "0                     178                      109   \n",
       "1                    1457                     1361   \n",
       "2                     177                      113   \n",
       "3                    2211                      790   \n",
       "4                     671                      410   \n",
       "\n",
       "   Lifetime Post Consumptions  \\\n",
       "0                         159   \n",
       "1                        1674   \n",
       "2                         154   \n",
       "3                        1119   \n",
       "4                         580   \n",
       "\n",
       "   Lifetime Post Impressions by people who have liked your Page  \\\n",
       "0                                               3078              \n",
       "1                                              11710              \n",
       "2                                               2812              \n",
       "3                                              61027              \n",
       "4                                               6228              \n",
       "\n",
       "   Lifetime Post reach by people who like your Page  \\\n",
       "0                                              1640   \n",
       "1                                              6112   \n",
       "2                                              1503   \n",
       "3                                             32048   \n",
       "4                                              3200   \n",
       "\n",
       "   Lifetime People who have liked your Page and engaged with your post  \\\n",
       "0                                                119                     \n",
       "1                                               1108                     \n",
       "2                                                132                     \n",
       "3                                               1386                     \n",
       "4                                                396                     \n",
       "\n",
       "   comment    like  share  Total Interactions  \n",
       "0        4    79.0   17.0                 100  \n",
       "1        5   130.0   29.0                 164  \n",
       "2        0    66.0   14.0                  80  \n",
       "3       58  1572.0  147.0                1777  \n",
       "4       19   325.0   49.0                 393  "
      ]
     },
     "execution_count": 4,
     "metadata": {},
     "output_type": "execute_result"
    }
   ],
   "source": [
    "dataset.head()"
   ]
  },
  {
   "cell_type": "code",
   "execution_count": 5,
   "metadata": {},
   "outputs": [],
   "source": [
    "#Renaming the columns\n",
    "dataset.columns = ['TotalLikes','Type','Category','PostMonth','PostWeekday','PostHour','Paid','TotalReach','TotalImpressions',\n",
    "                  'EngagedUsers','PostConsumers','PostConsumption','PostImpressions','PostReach','LifetimePeople','Comment','Like','Share','TotalInteractions']"
   ]
  },
  {
   "cell_type": "code",
   "execution_count": 6,
   "metadata": {},
   "outputs": [
    {
     "data": {
      "text/html": [
       "<div>\n",
       "<style scoped>\n",
       "    .dataframe tbody tr th:only-of-type {\n",
       "        vertical-align: middle;\n",
       "    }\n",
       "\n",
       "    .dataframe tbody tr th {\n",
       "        vertical-align: top;\n",
       "    }\n",
       "\n",
       "    .dataframe thead th {\n",
       "        text-align: right;\n",
       "    }\n",
       "</style>\n",
       "<table border=\"1\" class=\"dataframe\">\n",
       "  <thead>\n",
       "    <tr style=\"text-align: right;\">\n",
       "      <th></th>\n",
       "      <th>TotalLikes</th>\n",
       "      <th>Type</th>\n",
       "      <th>Category</th>\n",
       "      <th>PostMonth</th>\n",
       "      <th>PostWeekday</th>\n",
       "      <th>PostHour</th>\n",
       "      <th>Paid</th>\n",
       "      <th>TotalReach</th>\n",
       "      <th>TotalImpressions</th>\n",
       "      <th>EngagedUsers</th>\n",
       "      <th>PostConsumers</th>\n",
       "      <th>PostConsumption</th>\n",
       "      <th>PostImpressions</th>\n",
       "      <th>PostReach</th>\n",
       "      <th>LifetimePeople</th>\n",
       "      <th>Comment</th>\n",
       "      <th>Like</th>\n",
       "      <th>Share</th>\n",
       "      <th>TotalInteractions</th>\n",
       "    </tr>\n",
       "  </thead>\n",
       "  <tbody>\n",
       "    <tr>\n",
       "      <td>0</td>\n",
       "      <td>139441</td>\n",
       "      <td>Photo</td>\n",
       "      <td>2</td>\n",
       "      <td>12</td>\n",
       "      <td>4</td>\n",
       "      <td>3</td>\n",
       "      <td>0.0</td>\n",
       "      <td>2752</td>\n",
       "      <td>5091</td>\n",
       "      <td>178</td>\n",
       "      <td>109</td>\n",
       "      <td>159</td>\n",
       "      <td>3078</td>\n",
       "      <td>1640</td>\n",
       "      <td>119</td>\n",
       "      <td>4</td>\n",
       "      <td>79.0</td>\n",
       "      <td>17.0</td>\n",
       "      <td>100</td>\n",
       "    </tr>\n",
       "    <tr>\n",
       "      <td>1</td>\n",
       "      <td>139441</td>\n",
       "      <td>Status</td>\n",
       "      <td>2</td>\n",
       "      <td>12</td>\n",
       "      <td>3</td>\n",
       "      <td>10</td>\n",
       "      <td>0.0</td>\n",
       "      <td>10460</td>\n",
       "      <td>19057</td>\n",
       "      <td>1457</td>\n",
       "      <td>1361</td>\n",
       "      <td>1674</td>\n",
       "      <td>11710</td>\n",
       "      <td>6112</td>\n",
       "      <td>1108</td>\n",
       "      <td>5</td>\n",
       "      <td>130.0</td>\n",
       "      <td>29.0</td>\n",
       "      <td>164</td>\n",
       "    </tr>\n",
       "    <tr>\n",
       "      <td>2</td>\n",
       "      <td>139441</td>\n",
       "      <td>Photo</td>\n",
       "      <td>3</td>\n",
       "      <td>12</td>\n",
       "      <td>3</td>\n",
       "      <td>3</td>\n",
       "      <td>0.0</td>\n",
       "      <td>2413</td>\n",
       "      <td>4373</td>\n",
       "      <td>177</td>\n",
       "      <td>113</td>\n",
       "      <td>154</td>\n",
       "      <td>2812</td>\n",
       "      <td>1503</td>\n",
       "      <td>132</td>\n",
       "      <td>0</td>\n",
       "      <td>66.0</td>\n",
       "      <td>14.0</td>\n",
       "      <td>80</td>\n",
       "    </tr>\n",
       "    <tr>\n",
       "      <td>3</td>\n",
       "      <td>139441</td>\n",
       "      <td>Photo</td>\n",
       "      <td>2</td>\n",
       "      <td>12</td>\n",
       "      <td>2</td>\n",
       "      <td>10</td>\n",
       "      <td>1.0</td>\n",
       "      <td>50128</td>\n",
       "      <td>87991</td>\n",
       "      <td>2211</td>\n",
       "      <td>790</td>\n",
       "      <td>1119</td>\n",
       "      <td>61027</td>\n",
       "      <td>32048</td>\n",
       "      <td>1386</td>\n",
       "      <td>58</td>\n",
       "      <td>1572.0</td>\n",
       "      <td>147.0</td>\n",
       "      <td>1777</td>\n",
       "    </tr>\n",
       "    <tr>\n",
       "      <td>4</td>\n",
       "      <td>139441</td>\n",
       "      <td>Photo</td>\n",
       "      <td>2</td>\n",
       "      <td>12</td>\n",
       "      <td>2</td>\n",
       "      <td>3</td>\n",
       "      <td>0.0</td>\n",
       "      <td>7244</td>\n",
       "      <td>13594</td>\n",
       "      <td>671</td>\n",
       "      <td>410</td>\n",
       "      <td>580</td>\n",
       "      <td>6228</td>\n",
       "      <td>3200</td>\n",
       "      <td>396</td>\n",
       "      <td>19</td>\n",
       "      <td>325.0</td>\n",
       "      <td>49.0</td>\n",
       "      <td>393</td>\n",
       "    </tr>\n",
       "  </tbody>\n",
       "</table>\n",
       "</div>"
      ],
      "text/plain": [
       "   TotalLikes    Type  Category  PostMonth  PostWeekday  PostHour  Paid  \\\n",
       "0      139441   Photo         2         12            4         3   0.0   \n",
       "1      139441  Status         2         12            3        10   0.0   \n",
       "2      139441   Photo         3         12            3         3   0.0   \n",
       "3      139441   Photo         2         12            2        10   1.0   \n",
       "4      139441   Photo         2         12            2         3   0.0   \n",
       "\n",
       "   TotalReach  TotalImpressions  EngagedUsers  PostConsumers  PostConsumption  \\\n",
       "0        2752              5091           178            109              159   \n",
       "1       10460             19057          1457           1361             1674   \n",
       "2        2413              4373           177            113              154   \n",
       "3       50128             87991          2211            790             1119   \n",
       "4        7244             13594           671            410              580   \n",
       "\n",
       "   PostImpressions  PostReach  LifetimePeople  Comment    Like  Share  \\\n",
       "0             3078       1640             119        4    79.0   17.0   \n",
       "1            11710       6112            1108        5   130.0   29.0   \n",
       "2             2812       1503             132        0    66.0   14.0   \n",
       "3            61027      32048            1386       58  1572.0  147.0   \n",
       "4             6228       3200             396       19   325.0   49.0   \n",
       "\n",
       "   TotalInteractions  \n",
       "0                100  \n",
       "1                164  \n",
       "2                 80  \n",
       "3               1777  \n",
       "4                393  "
      ]
     },
     "execution_count": 6,
     "metadata": {},
     "output_type": "execute_result"
    }
   ],
   "source": [
    "dataset.head()"
   ]
  },
  {
   "cell_type": "code",
   "execution_count": 7,
   "metadata": {},
   "outputs": [
    {
     "data": {
      "text/plain": [
       "True"
      ]
     },
     "execution_count": 7,
     "metadata": {},
     "output_type": "execute_result"
    }
   ],
   "source": [
    "#Checking for missing values in the dataset\n",
    "dataset.isnull().values.any()"
   ]
  },
  {
   "cell_type": "code",
   "execution_count": 8,
   "metadata": {},
   "outputs": [
    {
     "data": {
      "text/plain": [
       "5"
      ]
     },
     "execution_count": 8,
     "metadata": {},
     "output_type": "execute_result"
    }
   ],
   "source": [
    "#Checking the total number of rows with missing values\n",
    "dataset.isnull().any(axis = 1).sum()"
   ]
  },
  {
   "cell_type": "code",
   "execution_count": 9,
   "metadata": {},
   "outputs": [
    {
     "data": {
      "text/plain": [
       "False"
      ]
     },
     "execution_count": 9,
     "metadata": {},
     "output_type": "execute_result"
    }
   ],
   "source": [
    "dataset['TotalLikes'].isnull().values.any()"
   ]
  },
  {
   "cell_type": "code",
   "execution_count": 10,
   "metadata": {},
   "outputs": [
    {
     "data": {
      "image/png": "[encoded data removed]",
      "text/plain": [
       "<Figure size 432x288 with 1 Axes>"
      ]
     },
     "metadata": {},
     "output_type": "display_data"
    }
   ],
   "source": [
    "#Visualising the dataset\n",
    "plt.style.use('dark_background')\n",
    "plt.figure(figsize=(6,4))\n",
    "plt.scatter(dataset['TotalInteractions'],list(range(0,len(dataset))),c='red')\n",
    "plt.xlabel('Total Interactions')\n",
    "plt.ylabel('No of observations')\n",
    "plt.title('Visualising the target variable distribution')\n",
    "plt.show()"
   ]
  },
  {
   "cell_type": "code",
   "execution_count": 11,
   "metadata": {},
   "outputs": [],
   "source": [
    "#Splitting the dataset into features and dependent variable\n",
    "x = dataset.iloc[:,:-1].values\n",
    "y = dataset.iloc[:,-1].values"
   ]
  },
  {
   "cell_type": "code",
   "execution_count": 12,
   "metadata": {},
   "outputs": [],
   "source": [
    "# Replacing the missing values with the mean\n",
    "from sklearn.impute import SimpleImputer\n",
    "imputer = SimpleImputer(missing_values=np.nan,strategy='mean')\n",
    "imputer.fit(x[:,2:]) \n",
    "x[:,2:] = imputer.transform(x[:,2:])"
   ]
  },
  {
   "cell_type": "code",
   "execution_count": 13,
   "metadata": {},
   "outputs": [
    {
     "name": "stdout",
     "output_type": "stream",
     "text": [
      "[139441 'Photo' 2.0 12.0 4.0 3.0 0.0 2752.0 5091.0 178.0 109.0 159.0\n",
      " 3078.0 1640.0 119.0 4.0 79.0 17.0]\n"
     ]
    }
   ],
   "source": [
    "print(x[0])"
   ]
  },
  {
   "cell_type": "code",
   "execution_count": 14,
   "metadata": {},
   "outputs": [
    {
     "name": "stdout",
     "output_type": "stream",
     "text": [
      "[ 100  164   80 1777  393  186  279  339  192  142  252  106  104  152\n",
      "  599  108   54  713   75   42   81    0   18   96  121  106  494  117\n",
      "  622  174  162   39  204  125   75  199  113  100  269   59  262  211\n",
      "   36   46   58   71  214   32   92   14   58  337  242   87   83   81\n",
      "  220   53   90  160  123  162  202  245   69  119   55  787   70  119\n",
      "  162  550  273  233  114  505    0   97   64   38  101  441  252  122\n",
      "  117  158  163  311   39  126  421   91  342  129  148  185   65  142\n",
      "  378  430    0 1626   79   17   72 1136  222  238  148  271   34    0\n",
      "  139   97   17    6  458    7    9    8    2  232    4    6    7    9\n",
      "  242   10    5    3   10   10   10   12   34   68   48   39  154  100\n",
      "  202  265 1009  447   53   96  204   94  179   35  367  200  454  193\n",
      "  387   70  163  137  252   98  409  282  410  288   18  132   84  557\n",
      " 1974  121  217   38  228  225  243  189 1174  276  299  194  199  114\n",
      "  271  472   90   72  263   67  117  164  119  818   70  133  490  330\n",
      "   73   60   32 1290  166   45   70  243  132   42  931  162   66   98\n",
      "  107  287   50   15  470  126   28   57  100  271   96  212   86  404\n",
      "  103  121  217  126  456  130  135  114   21   54  120   17  294  139\n",
      "  128  186  624  144  572  409 6334  188   88  115  118   68   85  234\n",
      "  274  300  823   85  160  118  203  202  143  290   79   75  596   55\n",
      "  101   87  195   53  730  269  587  171   71  148   30  271  218  194\n",
      "   49   89  117   39  152   94   18  125  605   67   25  172   24   95\n",
      "   93   66  117   72   94   15  285   89  234  363  155  238  188  184\n",
      "  163  135   25   99   73   82   28  218   75   90  226  235   41   59\n",
      "   83 1439   65   45   97  122  691  180  251  134   60   84   67  180\n",
      "   83   99  313  390  254  114  232  136   63  179  948   72  190 1806\n",
      "  190  203  255  429  118  188  167  309  174  335   99  105  166  210\n",
      "  236  157  355  189   54  200  528  587   56  121   75  316   79  295\n",
      "  165 2177  212  280   87  122   69  183   56  126   40   44   62  881\n",
      "  115   71  138   58  115   97   90  225  122  376  149  420   77   90\n",
      "  124   67   44  168  173   91  104   81  208  249   34    0   39   53\n",
      "   74   39    2  120   38   85    7  230    2    3    6    4    5  237\n",
      "   17  110  143  149   49   86   36    0  771   73   68   63  228  118\n",
      "   67  266  172  125   68  128  282  217   29  178  165  163 1873   95\n",
      "  311  176  313  170   71  238  305  264  131  224   61  182   86   84\n",
      "  633  107  106  127  515    7  226   97  108   14   83   66  378  103\n",
      "  110  152  137  257  176   84   75  115  136  119]\n"
     ]
    }
   ],
   "source": [
    "print(y)"
   ]
  },
  {
   "cell_type": "code",
   "execution_count": 15,
   "metadata": {},
   "outputs": [
    {
     "name": "stdout",
     "output_type": "stream",
     "text": [
      "[0.0 1.0 0.0 0.0 139441 2.0 12.0 4.0 3.0 0.0 2752.0 5091.0 178.0 109.0\n",
      " 159.0 3078.0 1640.0 119.0 4.0 79.0 17.0]\n"
     ]
    }
   ],
   "source": [
    "#Encoding the categorical feature\n",
    "from sklearn.compose import ColumnTransformer\n",
    "from sklearn.preprocessing import OneHotEncoder\n",
    "import warnings\n",
    "warnings.filterwarnings('ignore')\n",
    "ct = ColumnTransformer(transformers=[('encoder',OneHotEncoder(),[1])],remainder='passthrough')\n",
    "x=np.array(ct.fit_transform(x))\n",
    "print(x[0])"
   ]
  },
  {
   "cell_type": "code",
   "execution_count": 16,
   "metadata": {},
   "outputs": [],
   "source": [
    "#Splitting the dataset into the training set and test set\n",
    "from sklearn.model_selection import train_test_split\n",
    "x_train,x_test,y_train,y_test = train_test_split(x,y,test_size=0.2,random_state=0)"
   ]
  },
  {
   "cell_type": "markdown",
   "metadata": {},
   "source": [
    "---"
   ]
  },
  {
   "cell_type": "markdown",
   "metadata": {},
   "source": [
    "### Polynomial Regression model"
   ]
  },
  {
   "cell_type": "code",
   "execution_count": 17,
   "metadata": {},
   "outputs": [],
   "source": [
    "from sklearn.preprocessing import PolynomialFeatures\n",
    "poly_reg = PolynomialFeatures(degree=2)\n",
    "x_poly = poly_reg.fit_transform(x_train)"
   ]
  },
  {
   "cell_type": "code",
   "execution_count": 18,
   "metadata": {},
   "outputs": [
    {
     "data": {
      "text/plain": [
       "LinearRegression(copy_X=True, fit_intercept=True, n_jobs=None, normalize=False)"
      ]
     },
     "execution_count": 18,
     "metadata": {},
     "output_type": "execute_result"
    }
   ],
   "source": [
    "# Training the Polynomial Regression model on the training set\n",
    "from sklearn.linear_model import LinearRegression\n",
    "poly_regressor = LinearRegression()\n",
    "poly_regressor.fit(x_poly,y_train)"
   ]
  },
  {
   "cell_type": "code",
   "execution_count": 19,
   "metadata": {},
   "outputs": [
    {
     "name": "stdout",
     "output_type": "stream",
     "text": [
      "[[ 4.37e+02  4.21e+02]\n",
      " [ 8.27e+02  8.23e+02]\n",
      " [ 4.93e+01  3.90e+01]\n",
      " [ 5.43e+01  6.30e+01]\n",
      " [ 9.58e+01  9.50e+01]\n",
      " [ 1.22e+02  1.08e+02]\n",
      " [ 6.97e+01  7.50e+01]\n",
      " [ 1.22e+02  1.03e+02]\n",
      " [ 1.06e+02  9.80e+01]\n",
      " [ 1.66e+02  1.93e+02]\n",
      " [ 1.39e+02  1.44e+02]\n",
      " [ 8.68e+01  8.50e+01]\n",
      " [ 5.91e+01  6.20e+01]\n",
      " [ 6.36e+01  6.70e+01]\n",
      " [ 4.29e+01  3.80e+01]\n",
      " [ 1.77e+02  1.80e+02]\n",
      " [ 3.35e+02  3.05e+02]\n",
      " [ 1.79e+02  1.88e+02]\n",
      " [ 3.90e+02  3.87e+02]\n",
      " [ 1.14e+02  1.00e+02]\n",
      " [ 4.78e+01  4.20e+01]\n",
      " [ 3.50e+02  3.55e+02]\n",
      " [ 6.50e+02  6.24e+02]\n",
      " [ 1.42e+02  1.48e+02]\n",
      " [ 1.46e+02  7.10e+01]\n",
      " [ 3.85e+00  4.90e+01]\n",
      " [-1.67e+01  0.00e+00]\n",
      " [ 1.83e+02  1.89e+02]\n",
      " [ 4.25e+01  6.50e+01]\n",
      " [ 6.06e+01  5.40e+01]\n",
      " [ 1.35e+01  2.00e+00]\n",
      " [ 1.79e+01  9.00e+00]\n",
      " [ 1.80e+01  7.00e+00]\n",
      " [ 7.93e+02  8.18e+02]\n",
      " [ 6.69e+01  7.50e+01]\n",
      " [-7.60e+01  1.37e+02]\n",
      " [ 1.00e+02  9.90e+01]\n",
      " [ 1.29e+02  1.25e+02]\n",
      " [ 4.31e+02  4.29e+02]\n",
      " [ 1.23e+02  1.28e+02]\n",
      " [ 8.04e+01  8.30e+01]\n",
      " [ 1.45e+02  2.14e+02]\n",
      " [-8.45e+01  4.20e+02]\n",
      " [ 2.12e+02  2.12e+02]\n",
      " [-1.04e+01  0.00e+00]\n",
      " [ 1.60e+02  1.64e+02]\n",
      " [ 2.04e+01  1.50e+01]\n",
      " [ 3.41e+01  4.50e+01]\n",
      " [ 3.57e+01  3.90e+01]\n",
      " [ 8.01e+01  7.90e+01]\n",
      " [ 2.08e+02  2.10e+02]\n",
      " [ 2.19e+02  2.17e+02]\n",
      " [ 1.37e+02  1.36e+02]\n",
      " [-4.48e+00  5.30e+01]\n",
      " [ 1.11e+01  1.00e+01]\n",
      " [ 1.03e+02  1.04e+02]\n",
      " [ 1.20e+02  1.22e+02]\n",
      " [ 2.30e+02  2.25e+02]\n",
      " [ 9.52e+01  1.03e+02]\n",
      " [ 2.31e+02  2.32e+02]\n",
      " [ 6.56e+01  6.40e+01]\n",
      " [ 2.58e+01  3.00e+01]\n",
      " [ 1.23e+02  1.26e+02]\n",
      " [ 1.58e+01  8.50e+01]\n",
      " [ 8.65e+01  8.90e+01]\n",
      " [ 7.57e+01  7.30e+01]\n",
      " [ 3.84e+02  2.52e+02]\n",
      " [ 2.88e+02  2.64e+02]\n",
      " [ 3.02e+02  2.69e+02]\n",
      " [ 4.92e+02  5.05e+02]\n",
      " [ 1.11e+03  1.01e+03]\n",
      " [ 1.22e+02  1.19e+02]\n",
      " [ 2.56e+02  2.54e+02]\n",
      " [ 1.06e+02  1.08e+02]\n",
      " [ 1.63e+02  1.89e+02]\n",
      " [ 1.48e+02  1.66e+02]\n",
      " [ 5.60e+02  5.96e+02]\n",
      " [ 3.24e+00  0.00e+00]\n",
      " [ 1.63e+02  1.52e+02]\n",
      " [ 6.54e+01  6.60e+01]\n",
      " [ 2.86e+02  2.85e+02]\n",
      " [-2.50e-03  1.70e+01]\n",
      " [ 8.88e+01  8.40e+01]\n",
      " [ 2.66e+02  2.71e+02]\n",
      " [ 2.35e+02  2.51e+02]\n",
      " [ 9.11e+01  9.70e+01]\n",
      " [ 3.83e+01  3.90e+01]\n",
      " [ 1.42e+02  1.37e+02]\n",
      " [ 1.90e+02  1.90e+02]\n",
      " [ 7.54e+01  8.30e+01]\n",
      " [ 9.80e+01  9.60e+01]\n",
      " [ 9.96e+01  1.49e+02]\n",
      " [ 2.14e+03  2.18e+03]\n",
      " [ 1.68e+02  1.66e+02]\n",
      " [ 1.91e+02  1.94e+02]\n",
      " [ 7.79e+02  5.60e+01]\n",
      " [ 2.15e+02  2.20e+02]\n",
      " [ 3.74e+01  3.60e+01]\n",
      " [ 1.36e+02  1.23e+02]\n",
      " [ 6.54e+01  6.60e+01]]\n"
     ]
    }
   ],
   "source": [
    "# Predicting test results\n",
    "y_pred = poly_regressor.predict(poly_reg.fit_transform(x_test))\n",
    "np.set_printoptions(precision=2)\n",
    "print(np.concatenate((y_pred.reshape(len(y_pred),1),y_test.reshape(len(y_test),1)),1))"
   ]
  },
  {
   "cell_type": "code",
   "execution_count": 20,
   "metadata": {},
   "outputs": [
    {
     "data": {
      "text/plain": [
       "0.875096763651565"
      ]
     },
     "execution_count": 20,
     "metadata": {},
     "output_type": "execute_result"
    }
   ],
   "source": [
    "# Calculating R2 score\n",
    "from sklearn.metrics import r2_score\n",
    "r2_score(y_test,y_pred)"
   ]
  },
  {
   "cell_type": "code",
   "execution_count": 21,
   "metadata": {},
   "outputs": [
    {
     "data": {
      "image/png": "[encoded data removed]",
      "text/plain": [
       "<Figure size 864x288 with 2 Axes>"
      ]
     },
     "metadata": {},
     "output_type": "display_data"
    }
   ],
   "source": [
    "## Visualising the test and actual results for Polynomial Regression model\n",
    "mylist = list(range(0,len(y_pred)))\n",
    "plt.style.use('dark_background')\n",
    "fig, axes = plt.subplots(1,2,figsize=(12,4),sharex=True,sharey=True,squeeze=False)\n",
    "s1 = sns.scatterplot(y_test,mylist,color='lawngreen',ax=axes[0][0])\n",
    "s2 = sns.scatterplot(y_pred,mylist,color='purple',ax=axes[0][1])\n",
    "s1.set_xlabel('Test/Actual total interactions')\n",
    "s2.set_xlabel('Predicted total interactions')\n",
    "plt.setp(axes[:, 0], ylabel='Number of test observations')\n",
    "plt.show()"
   ]
  },
  {
   "cell_type": "markdown",
   "metadata": {},
   "source": [
    "---"
   ]
  },
  {
   "cell_type": "markdown",
   "metadata": {},
   "source": [
    "### Multiple Linear Regression model"
   ]
  },
  {
   "cell_type": "code",
   "execution_count": 22,
   "metadata": {},
   "outputs": [
    {
     "data": {
      "text/plain": [
       "LinearRegression(copy_X=True, fit_intercept=True, n_jobs=None, normalize=False)"
      ]
     },
     "execution_count": 22,
     "metadata": {},
     "output_type": "execute_result"
    }
   ],
   "source": [
    "# Training the multiple linear model on the training set\n",
    "from sklearn.linear_model import LinearRegression\n",
    "regressor = LinearRegression()\n",
    "regressor.fit(x_train,y_train)"
   ]
  },
  {
   "cell_type": "code",
   "execution_count": 23,
   "metadata": {},
   "outputs": [
    {
     "name": "stdout",
     "output_type": "stream",
     "text": [
      "[[ 4.22e+02  4.21e+02]\n",
      " [ 8.25e+02  8.23e+02]\n",
      " [ 4.09e+01  3.90e+01]\n",
      " [ 6.32e+01  6.30e+01]\n",
      " [ 9.49e+01  9.50e+01]\n",
      " [ 1.07e+02  1.08e+02]\n",
      " [ 7.54e+01  7.50e+01]\n",
      " [ 1.05e+02  1.03e+02]\n",
      " [ 9.79e+01  9.80e+01]\n",
      " [ 1.89e+02  1.93e+02]\n",
      " [ 1.42e+02  1.44e+02]\n",
      " [ 8.37e+01  8.50e+01]\n",
      " [ 6.50e+01  6.20e+01]\n",
      " [ 6.37e+01  6.70e+01]\n",
      " [ 3.70e+01  3.80e+01]\n",
      " [ 1.81e+02  1.80e+02]\n",
      " [ 3.04e+02  3.05e+02]\n",
      " [ 1.86e+02  1.88e+02]\n",
      " [ 3.83e+02  3.87e+02]\n",
      " [ 9.68e+01  1.00e+02]\n",
      " [ 4.11e+01  4.20e+01]\n",
      " [ 3.52e+02  3.55e+02]\n",
      " [ 6.25e+02  6.24e+02]\n",
      " [ 1.46e+02  1.48e+02]\n",
      " [ 7.10e+01  7.10e+01]\n",
      " [ 5.23e+01  4.90e+01]\n",
      " [-4.79e+00  0.00e+00]\n",
      " [ 1.91e+02  1.89e+02]\n",
      " [ 6.30e+01  6.50e+01]\n",
      " [ 5.29e+01  5.40e+01]\n",
      " [ 1.76e+00  2.00e+00]\n",
      " [ 6.35e+00  9.00e+00]\n",
      " [ 3.22e+01  7.00e+00]\n",
      " [ 8.20e+02  8.18e+02]\n",
      " [ 7.51e+01  7.50e+01]\n",
      " [ 1.36e+02  1.37e+02]\n",
      " [ 1.00e+02  9.90e+01]\n",
      " [ 1.24e+02  1.25e+02]\n",
      " [ 4.30e+02  4.29e+02]\n",
      " [ 1.25e+02  1.28e+02]\n",
      " [ 8.48e+01  8.30e+01]\n",
      " [ 2.18e+02  2.14e+02]\n",
      " [ 4.18e+02  4.20e+02]\n",
      " [ 2.10e+02  2.12e+02]\n",
      " [-3.15e+00  0.00e+00]\n",
      " [ 1.64e+02  1.64e+02]\n",
      " [ 1.63e+01  1.50e+01]\n",
      " [ 4.75e+01  4.50e+01]\n",
      " [ 3.88e+01  3.90e+01]\n",
      " [ 7.87e+01  7.90e+01]\n",
      " [ 2.09e+02  2.10e+02]\n",
      " [ 2.17e+02  2.17e+02]\n",
      " [ 1.38e+02  1.36e+02]\n",
      " [ 5.75e+01  5.30e+01]\n",
      " [ 6.83e+00  1.00e+01]\n",
      " [ 1.02e+02  1.04e+02]\n",
      " [ 1.22e+02  1.22e+02]\n",
      " [ 2.23e+02  2.25e+02]\n",
      " [ 1.01e+02  1.03e+02]\n",
      " [ 2.30e+02  2.32e+02]\n",
      " [ 6.32e+01  6.40e+01]\n",
      " [ 3.15e+01  3.00e+01]\n",
      " [ 1.25e+02  1.26e+02]\n",
      " [ 8.93e+01  8.50e+01]\n",
      " [ 9.05e+01  8.90e+01]\n",
      " [ 6.98e+01  7.30e+01]\n",
      " [ 2.58e+02  2.52e+02]\n",
      " [ 2.63e+02  2.64e+02]\n",
      " [ 2.67e+02  2.69e+02]\n",
      " [ 5.06e+02  5.05e+02]\n",
      " [ 9.86e+02  1.01e+03]\n",
      " [ 1.19e+02  1.19e+02]\n",
      " [ 2.52e+02  2.54e+02]\n",
      " [ 1.10e+02  1.08e+02]\n",
      " [ 1.91e+02  1.89e+02]\n",
      " [ 1.63e+02  1.66e+02]\n",
      " [ 5.99e+02  5.96e+02]\n",
      " [-2.57e+00  0.00e+00]\n",
      " [ 1.54e+02  1.52e+02]\n",
      " [ 6.71e+01  6.60e+01]\n",
      " [ 2.82e+02  2.85e+02]\n",
      " [ 1.41e+01  1.70e+01]\n",
      " [ 8.63e+01  8.40e+01]\n",
      " [ 2.70e+02  2.71e+02]\n",
      " [ 2.52e+02  2.51e+02]\n",
      " [ 9.70e+01  9.70e+01]\n",
      " [ 3.91e+01  3.90e+01]\n",
      " [ 1.37e+02  1.37e+02]\n",
      " [ 1.90e+02  1.90e+02]\n",
      " [ 7.92e+01  8.30e+01]\n",
      " [ 9.53e+01  9.60e+01]\n",
      " [ 1.48e+02  1.49e+02]\n",
      " [ 2.18e+03  2.18e+03]\n",
      " [ 1.65e+02  1.66e+02]\n",
      " [ 1.93e+02  1.94e+02]\n",
      " [ 5.64e+01  5.60e+01]\n",
      " [ 2.18e+02  2.20e+02]\n",
      " [ 3.58e+01  3.60e+01]\n",
      " [ 1.22e+02  1.23e+02]\n",
      " [ 6.53e+01  6.60e+01]]\n"
     ]
    }
   ],
   "source": [
    "# Predicting test results\n",
    "y_pred = regressor.predict(x_test)\n",
    "np.set_printoptions(precision=2)\n",
    "print(np.concatenate((y_pred.reshape(len(y_pred),1),y_test.reshape(len(y_test),1)),1))"
   ]
  },
  {
   "cell_type": "code",
   "execution_count": 24,
   "metadata": {},
   "outputs": [
    {
     "data": {
      "text/plain": [
       "0.9997682929983558"
      ]
     },
     "execution_count": 24,
     "metadata": {},
     "output_type": "execute_result"
    }
   ],
   "source": [
    "# Calculating r2 score\n",
    "from sklearn.metrics import r2_score\n",
    "r2_score(y_test,y_pred)"
   ]
  },
  {
   "cell_type": "code",
   "execution_count": 25,
   "metadata": {},
   "outputs": [
    {
     "data": {
      "image/png": "[encoded data removed]",
      "text/plain": [
       "<Figure size 864x288 with 2 Axes>"
      ]
     },
     "metadata": {},
     "output_type": "display_data"
    }
   ],
   "source": [
    "## Visualising the test and actual results for Multiple Linear Regression model\n",
    "plt.style.use('dark_background')\n",
    "fig, axes = plt.subplots(1,2,figsize=(12,4),sharex=True,sharey=True,squeeze=False)\n",
    "s1 = sns.scatterplot(y_test,mylist,color='lawngreen',ax=axes[0][0])\n",
    "s2 = sns.scatterplot(y_pred,mylist,color='purple',ax=axes[0][1])\n",
    "s1.set_xlabel('Test/Actual total interactions')\n",
    "s2.set_xlabel('Predicted total interactions')\n",
    "plt.setp(axes[:, 0], ylabel='Number of test observations')\n",
    "plt.show()"
   ]
  },
  {
   "cell_type": "markdown",
   "metadata": {},
   "source": [
    "---"
   ]
  },
  {
   "cell_type": "markdown",
   "metadata": {},
   "source": [
    "### Random Forest Regression"
   ]
  },
  {
   "cell_type": "code",
   "execution_count": 26,
   "metadata": {},
   "outputs": [
    {
     "data": {
      "text/plain": [
       "RandomForestRegressor(bootstrap=True, criterion='mse', max_depth=None,\n",
       "                      max_features='auto', max_leaf_nodes=None,\n",
       "                      min_impurity_decrease=0.0, min_impurity_split=None,\n",
       "                      min_samples_leaf=1, min_samples_split=2,\n",
       "                      min_weight_fraction_leaf=0.0, n_estimators=100,\n",
       "                      n_jobs=None, oob_score=False, random_state=0, verbose=0,\n",
       "                      warm_start=False)"
      ]
     },
     "execution_count": 26,
     "metadata": {},
     "output_type": "execute_result"
    }
   ],
   "source": [
    "# Training the Random Forest Regression model on the training set\n",
    "from sklearn.ensemble import RandomForestRegressor\n",
    "regressor = RandomForestRegressor(n_estimators=100,random_state=0)\n",
    "regressor.fit(x_train,y_train)"
   ]
  },
  {
   "cell_type": "code",
   "execution_count": 27,
   "metadata": {},
   "outputs": [
    {
     "name": "stdout",
     "output_type": "stream",
     "text": [
      "[[4.04e+02 4.21e+02]\n",
      " [8.52e+02 8.23e+02]\n",
      " [3.89e+01 3.90e+01]\n",
      " [6.80e+01 6.30e+01]\n",
      " [9.53e+01 9.50e+01]\n",
      " [1.04e+02 1.08e+02]\n",
      " [7.50e+01 7.50e+01]\n",
      " [9.94e+01 1.03e+02]\n",
      " [1.03e+02 9.80e+01]\n",
      " [2.02e+02 1.93e+02]\n",
      " [1.49e+02 1.44e+02]\n",
      " [8.72e+01 8.50e+01]\n",
      " [6.07e+01 6.20e+01]\n",
      " [7.26e+01 6.70e+01]\n",
      " [3.90e+01 3.80e+01]\n",
      " [1.76e+02 1.80e+02]\n",
      " [3.03e+02 3.05e+02]\n",
      " [1.78e+02 1.88e+02]\n",
      " [3.89e+02 3.87e+02]\n",
      " [8.88e+01 1.00e+02]\n",
      " [4.81e+01 4.20e+01]\n",
      " [3.81e+02 3.55e+02]\n",
      " [5.89e+02 6.24e+02]\n",
      " [1.48e+02 1.48e+02]\n",
      " [7.04e+01 7.10e+01]\n",
      " [4.60e+01 4.90e+01]\n",
      " [1.33e+00 0.00e+00]\n",
      " [1.79e+02 1.89e+02]\n",
      " [6.18e+01 6.50e+01]\n",
      " [5.61e+01 5.40e+01]\n",
      " [3.10e+00 2.00e+00]\n",
      " [8.52e+00 9.00e+00]\n",
      " [8.97e+00 7.00e+00]\n",
      " [8.90e+02 8.18e+02]\n",
      " [7.36e+01 7.50e+01]\n",
      " [1.50e+02 1.37e+02]\n",
      " [1.03e+02 9.90e+01]\n",
      " [1.22e+02 1.25e+02]\n",
      " [4.78e+02 4.29e+02]\n",
      " [1.22e+02 1.28e+02]\n",
      " [8.10e+01 8.30e+01]\n",
      " [2.16e+02 2.14e+02]\n",
      " [4.82e+02 4.20e+02]\n",
      " [2.08e+02 2.12e+02]\n",
      " [9.50e-01 0.00e+00]\n",
      " [1.66e+02 1.64e+02]\n",
      " [1.52e+01 1.50e+01]\n",
      " [4.34e+01 4.50e+01]\n",
      " [3.55e+01 3.90e+01]\n",
      " [7.72e+01 7.90e+01]\n",
      " [2.11e+02 2.10e+02]\n",
      " [2.17e+02 2.17e+02]\n",
      " [1.24e+02 1.36e+02]\n",
      " [5.55e+01 5.30e+01]\n",
      " [9.28e+00 1.00e+01]\n",
      " [1.07e+02 1.04e+02]\n",
      " [1.21e+02 1.22e+02]\n",
      " [2.18e+02 2.25e+02]\n",
      " [9.98e+01 1.03e+02]\n",
      " [2.35e+02 2.32e+02]\n",
      " [6.85e+01 6.40e+01]\n",
      " [3.27e+01 3.00e+01]\n",
      " [1.30e+02 1.26e+02]\n",
      " [9.05e+01 8.50e+01]\n",
      " [9.21e+01 8.90e+01]\n",
      " [7.57e+01 7.30e+01]\n",
      " [3.88e+02 2.52e+02]\n",
      " [2.55e+02 2.64e+02]\n",
      " [2.66e+02 2.69e+02]\n",
      " [4.83e+02 5.05e+02]\n",
      " [1.16e+03 1.01e+03]\n",
      " [9.83e+01 1.19e+02]\n",
      " [2.46e+02 2.54e+02]\n",
      " [1.04e+02 1.08e+02]\n",
      " [2.03e+02 1.89e+02]\n",
      " [1.67e+02 1.66e+02]\n",
      " [6.06e+02 5.96e+02]\n",
      " [6.70e-01 0.00e+00]\n",
      " [1.27e+02 1.52e+02]\n",
      " [7.39e+01 6.60e+01]\n",
      " [2.85e+02 2.85e+02]\n",
      " [1.85e+01 1.70e+01]\n",
      " [8.53e+01 8.40e+01]\n",
      " [2.71e+02 2.71e+02]\n",
      " [2.39e+02 2.51e+02]\n",
      " [9.66e+01 9.70e+01]\n",
      " [3.96e+01 3.90e+01]\n",
      " [1.41e+02 1.37e+02]\n",
      " [1.87e+02 1.90e+02]\n",
      " [8.06e+01 8.30e+01]\n",
      " [1.03e+02 9.60e+01]\n",
      " [1.52e+02 1.49e+02]\n",
      " [1.79e+03 2.18e+03]\n",
      " [1.66e+02 1.66e+02]\n",
      " [1.89e+02 1.94e+02]\n",
      " [4.90e+01 5.60e+01]\n",
      " [2.14e+02 2.20e+02]\n",
      " [3.44e+01 3.60e+01]\n",
      " [1.22e+02 1.23e+02]\n",
      " [6.91e+01 6.60e+01]]\n"
     ]
    }
   ],
   "source": [
    "#Predicting test results\n",
    "y_pred = regressor.predict(x_test)\n",
    "np.set_printoptions(precision=2)\n",
    "print(np.concatenate((y_pred.reshape(len(y_pred),1),y_test.reshape(len(y_test),1)),1))"
   ]
  },
  {
   "cell_type": "code",
   "execution_count": 28,
   "metadata": {},
   "outputs": [
    {
     "data": {
      "text/plain": [
       "0.9705276870102792"
      ]
     },
     "execution_count": 28,
     "metadata": {},
     "output_type": "execute_result"
    }
   ],
   "source": [
    "## Calculating r2 score\n",
    "from sklearn.metrics import r2_score\n",
    "r2_score(y_test,y_pred)"
   ]
  },
  {
   "cell_type": "code",
   "execution_count": 29,
   "metadata": {},
   "outputs": [],
   "source": [
    "mylist = list(range(0,len(y_pred)))\n",
    "#mylist = np.reshape(mylist,(len(mylist),1))"
   ]
  },
  {
   "cell_type": "code",
   "execution_count": 30,
   "metadata": {},
   "outputs": [
    {
     "data": {
      "image/png": "[encoded data removed]",
      "text/plain": [
       "<Figure size 864x288 with 2 Axes>"
      ]
     },
     "metadata": {},
     "output_type": "display_data"
    }
   ],
   "source": [
    "## Visualising the test and actual results for Random Forest Regression model\n",
    "plt.style.use('dark_background')\n",
    "fig, axes = plt.subplots(1,2,figsize=(12,4),sharex=True,sharey=True,squeeze=False)\n",
    "s1 = sns.scatterplot(y_test,mylist,color='lawngreen',ax=axes[0][0])\n",
    "s2 = sns.scatterplot(y_pred,mylist,color='purple',ax=axes[0][1])\n",
    "s1.set_xlabel('Test/Actual total interactions')\n",
    "s2.set_xlabel('Predicted total interactions')\n",
    "plt.setp(axes[:, 0], ylabel='Number of test observations')\n",
    "plt.show()"
   ]
  },
  {
   "cell_type": "markdown",
   "metadata": {},
   "source": [
    "---"
   ]
  },
  {
   "cell_type": "markdown",
   "metadata": {},
   "source": [
    "### Decision Tree Regression"
   ]
  },
  {
   "cell_type": "code",
   "execution_count": 31,
   "metadata": {},
   "outputs": [
    {
     "data": {
      "text/plain": [
       "DecisionTreeRegressor(criterion='mse', max_depth=None, max_features=None,\n",
       "                      max_leaf_nodes=None, min_impurity_decrease=0.0,\n",
       "                      min_impurity_split=None, min_samples_leaf=1,\n",
       "                      min_samples_split=2, min_weight_fraction_leaf=0.0,\n",
       "                      presort=False, random_state=0, splitter='best')"
      ]
     },
     "execution_count": 31,
     "metadata": {},
     "output_type": "execute_result"
    }
   ],
   "source": [
    "## Training the decision tree regression model on the training set\n",
    "from sklearn.tree import DecisionTreeRegressor\n",
    "regressor = DecisionTreeRegressor(random_state=0)\n",
    "regressor.fit(x_train,y_train)"
   ]
  },
  {
   "cell_type": "code",
   "execution_count": 32,
   "metadata": {},
   "outputs": [
    {
     "name": "stdout",
     "output_type": "stream",
     "text": [
      "[[3.90e+02 4.21e+02]\n",
      " [7.87e+02 8.23e+02]\n",
      " [4.40e+01 3.90e+01]\n",
      " [6.00e+01 6.30e+01]\n",
      " [9.60e+01 9.50e+01]\n",
      " [1.00e+02 1.08e+02]\n",
      " [7.50e+01 7.50e+01]\n",
      " [9.30e+01 1.03e+02]\n",
      " [1.06e+02 9.80e+01]\n",
      " [1.90e+02 1.93e+02]\n",
      " [1.43e+02 1.44e+02]\n",
      " [8.60e+01 8.50e+01]\n",
      " [6.00e+01 6.20e+01]\n",
      " [8.40e+01 6.70e+01]\n",
      " [3.20e+01 3.80e+01]\n",
      " [1.63e+02 1.80e+02]\n",
      " [2.88e+02 3.05e+02]\n",
      " [1.63e+02 1.88e+02]\n",
      " [3.90e+02 3.87e+02]\n",
      " [8.60e+01 1.00e+02]\n",
      " [4.90e+01 4.20e+01]\n",
      " [3.93e+02 3.55e+02]\n",
      " [5.87e+02 6.24e+02]\n",
      " [1.39e+02 1.48e+02]\n",
      " [7.20e+01 7.10e+01]\n",
      " [4.80e+01 4.90e+01]\n",
      " [0.00e+00 0.00e+00]\n",
      " [1.57e+02 1.89e+02]\n",
      " [5.50e+01 6.50e+01]\n",
      " [6.00e+01 5.40e+01]\n",
      " [4.00e+00 2.00e+00]\n",
      " [7.00e+00 9.00e+00]\n",
      " [8.00e+00 7.00e+00]\n",
      " [7.87e+02 8.18e+02]\n",
      " [7.50e+01 7.50e+01]\n",
      " [1.43e+02 1.37e+02]\n",
      " [1.00e+02 9.90e+01]\n",
      " [1.15e+02 1.25e+02]\n",
      " [5.15e+02 4.29e+02]\n",
      " [1.19e+02 1.28e+02]\n",
      " [8.10e+01 8.30e+01]\n",
      " [2.28e+02 2.14e+02]\n",
      " [5.28e+02 4.20e+02]\n",
      " [2.00e+02 2.12e+02]\n",
      " [0.00e+00 0.00e+00]\n",
      " [1.60e+02 1.64e+02]\n",
      " [1.00e+01 1.50e+01]\n",
      " [4.20e+01 4.50e+01]\n",
      " [3.90e+01 3.90e+01]\n",
      " [8.10e+01 7.90e+01]\n",
      " [2.08e+02 2.10e+02]\n",
      " [2.17e+02 2.17e+02]\n",
      " [1.30e+02 1.36e+02]\n",
      " [5.40e+01 5.30e+01]\n",
      " [9.00e+00 1.00e+01]\n",
      " [1.06e+02 1.04e+02]\n",
      " [1.22e+02 1.22e+02]\n",
      " [1.99e+02 2.25e+02]\n",
      " [1.01e+02 1.03e+02]\n",
      " [2.38e+02 2.32e+02]\n",
      " [6.90e+01 6.40e+01]\n",
      " [3.40e+01 3.00e+01]\n",
      " [1.33e+02 1.26e+02]\n",
      " [8.60e+01 8.50e+01]\n",
      " [9.60e+01 8.90e+01]\n",
      " [7.00e+01 7.30e+01]\n",
      " [2.69e+02 2.52e+02]\n",
      " [2.52e+02 2.64e+02]\n",
      " [2.45e+02 2.69e+02]\n",
      " [4.90e+02 5.05e+02]\n",
      " [9.31e+02 1.01e+03]\n",
      " [9.70e+01 1.19e+02]\n",
      " [2.38e+02 2.54e+02]\n",
      " [9.70e+01 1.08e+02]\n",
      " [2.02e+02 1.89e+02]\n",
      " [1.57e+02 1.66e+02]\n",
      " [6.05e+02 5.96e+02]\n",
      " [0.00e+00 0.00e+00]\n",
      " [1.36e+02 1.52e+02]\n",
      " [8.70e+01 6.60e+01]\n",
      " [2.74e+02 2.85e+02]\n",
      " [1.70e+01 1.70e+01]\n",
      " [8.40e+01 8.40e+01]\n",
      " [3.11e+02 2.71e+02]\n",
      " [2.82e+02 2.51e+02]\n",
      " [9.30e+01 9.70e+01]\n",
      " [3.20e+01 3.90e+01]\n",
      " [1.62e+02 1.37e+02]\n",
      " [1.79e+02 1.90e+02]\n",
      " [8.10e+01 8.30e+01]\n",
      " [9.70e+01 9.60e+01]\n",
      " [1.54e+02 1.49e+02]\n",
      " [1.81e+03 2.18e+03]\n",
      " [1.62e+02 1.66e+02]\n",
      " [1.85e+02 1.94e+02]\n",
      " [4.80e+01 5.60e+01]\n",
      " [2.33e+02 2.20e+02]\n",
      " [3.40e+01 3.60e+01]\n",
      " [1.21e+02 1.23e+02]\n",
      " [7.00e+01 6.60e+01]]\n"
     ]
    }
   ],
   "source": [
    "## Predicting test results\n",
    "y_pred = regressor.predict(x_test)\n",
    "np.set_printoptions(precision=2)\n",
    "print(np.concatenate((y_pred.reshape(len(y_pred),1),y_test.reshape(len(y_test),1)),1))"
   ]
  },
  {
   "cell_type": "code",
   "execution_count": 33,
   "metadata": {},
   "outputs": [
    {
     "data": {
      "text/plain": [
       "0.9745182763038472"
      ]
     },
     "execution_count": 33,
     "metadata": {},
     "output_type": "execute_result"
    }
   ],
   "source": [
    "## Calculating r2 score\n",
    "from sklearn.metrics import r2_score\n",
    "r2_score(y_test,y_pred)"
   ]
  },
  {
   "cell_type": "code",
   "execution_count": 34,
   "metadata": {},
   "outputs": [
    {
     "data": {
      "image/png": "[encoded data removed]",
      "text/plain": [
       "<Figure size 864x288 with 2 Axes>"
      ]
     },
     "metadata": {},
     "output_type": "display_data"
    }
   ],
   "source": [
    "## Visualising the test and actual results for Decision Tree Regression model\n",
    "plt.style.use('dark_background')\n",
    "fig, axes = plt.subplots(1,2,figsize=(12,4),sharex=True,sharey=True,squeeze=False)\n",
    "s1 = sns.scatterplot(y_test,mylist,color='lawngreen',ax=axes[0][0])\n",
    "s2 = sns.scatterplot(y_pred,mylist,color='purple',ax=axes[0][1])\n",
    "s1.set_xlabel('Test/Actual total interactions')\n",
    "s2.set_xlabel('Predicted total interactions')\n",
    "plt.setp(axes[:, 0], ylabel='Number of test observations')\n",
    "plt.show()"
   ]
  },
  {
   "cell_type": "markdown",
   "metadata": {},
   "source": [
    "----"
   ]
  },
  {
   "cell_type": "markdown",
   "metadata": {},
   "source": [
    "### Linear SVM Regression model"
   ]
  },
  {
   "cell_type": "code",
   "execution_count": 35,
   "metadata": {},
   "outputs": [
    {
     "name": "stdout",
     "output_type": "stream",
     "text": [
      "[[0.0 0.0 1.0 ... 0.3847517910795669 0.03038232406517495\n",
      "  0.0006068112584388749]\n",
      " [0.0 1.0 0.0 ... -0.2609854806623636 -0.32566736589627404\n",
      "  -0.4110986818681327]\n",
      " [0.0 0.0 0.0 ... 0.3847517910795669 0.783677535884439 1.2140545804735972]\n",
      " ...\n",
      " [0.0 1.0 0.0 ... -0.34708378356128766 -0.516933728272259\n",
      "  -0.6061170733491402]\n",
      " [1.0 0.0 0.0 ... -0.08878887486451545 -0.48456557463940003\n",
      "  -0.43276739203268905]\n",
      " [0.0 0.0 1.0 ... 1.2887839715182696 -0.05789445856989505\n",
      "  -0.021061898906117524]]\n"
     ]
    }
   ],
   "source": [
    "#Feature Scaling \n",
    "from sklearn.preprocessing import StandardScaler\n",
    "sc_x = StandardScaler()\n",
    "x_train[:,[4,6,7,8,10,11,12,13,14,15,16,17,18,19,20]] =sc_x.fit_transform(x_train[:,[4,6,7,8,10,11,12,13,14,15,16,17,18,19,20]])\n",
    "x_test[:,[4,6,7,8,10,11,12,13,14,15,16,17,18,19,20]] =sc_x.transform(x_test[:,[4,6,7,8,10,11,12,13,14,15,16,17,18,19,20]])\n",
    "sc_y=StandardScaler()\n",
    "y_train = sc_y.fit_transform(np.reshape(y_train,(len(y_train),1)))\n",
    "y_test = sc_y.transform(np.reshape(y_test,(len(y_test),1)))\n",
    "print(x_train)"
   ]
  },
  {
   "cell_type": "code",
   "execution_count": 36,
   "metadata": {},
   "outputs": [
    {
     "data": {
      "text/plain": [
       "SVR(C=1.0, cache_size=200, coef0=0.0, degree=3, epsilon=0.1,\n",
       "    gamma='auto_deprecated', kernel='linear', max_iter=-1, shrinking=True,\n",
       "    tol=0.001, verbose=False)"
      ]
     },
     "execution_count": 36,
     "metadata": {},
     "output_type": "execute_result"
    }
   ],
   "source": [
    "#Training the Kernel SVM Regression model on the training set\n",
    "from sklearn.svm import SVR\n",
    "regressor = SVR(kernel='linear')\n",
    "regressor.fit(x_train,y_train)"
   ]
  },
  {
   "cell_type": "code",
   "execution_count": 37,
   "metadata": {},
   "outputs": [
    {
     "name": "stdout",
     "output_type": "stream",
     "text": [
      "[[ 4.50e-01  5.03e-01]\n",
      " [ 1.53e+00  1.50e+00]\n",
      " [-4.81e-01 -4.44e-01]\n",
      " [-4.61e-01 -3.85e-01]\n",
      " [-3.70e-01 -3.05e-01]\n",
      " [-3.28e-01 -2.73e-01]\n",
      " [-3.70e-01 -3.55e-01]\n",
      " [-2.83e-01 -2.85e-01]\n",
      " [-3.58e-01 -2.98e-01]\n",
      " [-1.38e-01 -6.22e-02]\n",
      " [-2.75e-01 -1.84e-01]\n",
      " [-4.12e-01 -3.30e-01]\n",
      " [-3.94e-01 -3.87e-01]\n",
      " [-4.82e-01 -3.75e-01]\n",
      " [-5.41e-01 -4.47e-01]\n",
      " [-1.08e-01 -9.44e-02]\n",
      " [ 1.72e-01  2.16e-01]\n",
      " [-1.62e-01 -7.46e-02]\n",
      " [ 3.50e-01  4.19e-01]\n",
      " [-3.58e-01 -2.93e-01]\n",
      " [-5.27e-01 -4.37e-01]\n",
      " [ 3.07e-01  3.40e-01]\n",
      " [ 1.00e+00  1.01e+00]\n",
      " [-2.04e-01 -1.74e-01]\n",
      " [-4.47e-01 -3.65e-01]\n",
      " [-4.60e-01 -4.19e-01]\n",
      " [-6.40e-01 -5.41e-01]\n",
      " [-7.26e-02 -7.21e-02]\n",
      " [-4.74e-01 -3.80e-01]\n",
      " [-5.03e-01 -4.07e-01]\n",
      " [-6.04e-01 -5.36e-01]\n",
      " [-6.11e-01 -5.19e-01]\n",
      " [-5.42e-01 -5.24e-01]\n",
      " [ 1.44e+00  1.49e+00]\n",
      " [-4.24e-01 -3.55e-01]\n",
      " [-2.34e-01 -2.01e-01]\n",
      " [-3.14e-01 -2.95e-01]\n",
      " [-3.01e-01 -2.31e-01]\n",
      " [ 5.07e-01  5.23e-01]\n",
      " [-3.23e-01 -2.23e-01]\n",
      " [-3.48e-01 -3.35e-01]\n",
      " [-2.51e-02 -1.01e-02]\n",
      " [ 5.09e-01  5.01e-01]\n",
      " [-4.28e-02 -1.50e-02]\n",
      " [-6.41e-01 -5.41e-01]\n",
      " [-1.99e-01 -1.34e-01]\n",
      " [-5.23e-01 -5.04e-01]\n",
      " [-4.37e-01 -4.29e-01]\n",
      " [-5.23e-01 -4.44e-01]\n",
      " [-3.69e-01 -3.45e-01]\n",
      " [-4.06e-02 -2.00e-02]\n",
      " [-2.99e-02 -2.63e-03]\n",
      " [-2.11e-01 -2.04e-01]\n",
      " [-3.75e-01 -4.10e-01]\n",
      " [-6.15e-01 -5.16e-01]\n",
      " [-3.44e-01 -2.83e-01]\n",
      " [-2.55e-01 -2.38e-01]\n",
      " [-8.02e-02  1.72e-02]\n",
      " [-3.69e-01 -2.85e-01]\n",
      " [-2.38e-02  3.46e-02]\n",
      " [-4.44e-01 -3.82e-01]\n",
      " [-4.78e-01 -4.67e-01]\n",
      " [-3.13e-01 -2.28e-01]\n",
      " [-3.34e-01 -3.30e-01]\n",
      " [-3.36e-01 -3.20e-01]\n",
      " [-4.64e-01 -3.60e-01]\n",
      " [ 1.33e-01  8.42e-02]\n",
      " [ 1.31e-01  1.14e-01]\n",
      " [ 1.42e-01  1.26e-01]\n",
      " [ 6.75e-01  7.12e-01]\n",
      " [ 1.93e+00  1.96e+00]\n",
      " [-3.21e-01 -2.46e-01]\n",
      " [ 6.01e-02  8.92e-02]\n",
      " [-2.72e-01 -2.73e-01]\n",
      " [-9.81e-02 -7.21e-02]\n",
      " [-2.13e-01 -1.29e-01]\n",
      " [ 9.48e-01  9.38e-01]\n",
      " [-6.39e-01 -5.41e-01]\n",
      " [-1.53e-01 -1.64e-01]\n",
      " [-4.18e-01 -3.77e-01]\n",
      " [ 1.11e-01  1.66e-01]\n",
      " [-5.87e-01 -4.99e-01]\n",
      " [-3.25e-01 -3.33e-01]\n",
      " [ 1.12e-01  1.31e-01]\n",
      " [ 9.39e-02  8.17e-02]\n",
      " [-3.54e-01 -3.00e-01]\n",
      " [-5.28e-01 -4.44e-01]\n",
      " [-2.28e-01 -2.01e-01]\n",
      " [-8.74e-02 -6.96e-02]\n",
      " [-4.32e-01 -3.35e-01]\n",
      " [-3.67e-01 -3.03e-01]\n",
      " [-1.85e-01 -1.71e-01]\n",
      " [ 4.83e+00  4.86e+00]\n",
      " [-1.87e-01 -1.29e-01]\n",
      " [-1.18e-01 -5.97e-02]\n",
      " [-4.56e-01 -4.02e-01]\n",
      " [-8.20e-02  4.81e-03]\n",
      " [-5.27e-01 -4.52e-01]\n",
      " [-3.09e-01 -2.36e-01]\n",
      " [-4.00e-01 -3.77e-01]]\n"
     ]
    }
   ],
   "source": [
    "#Predicting test results\n",
    "y_pred = regressor.predict(x_test)\n",
    "np.set_printoptions(precision=2)\n",
    "print(np.concatenate((y_pred.reshape(len(y_pred),1),y_test.reshape(len(y_test),1)),1))"
   ]
  },
  {
   "cell_type": "code",
   "execution_count": 38,
   "metadata": {},
   "outputs": [
    {
     "data": {
      "text/plain": [
       "0.9921519572370308"
      ]
     },
     "execution_count": 38,
     "metadata": {},
     "output_type": "execute_result"
    }
   ],
   "source": [
    "## Calculating r2 score\n",
    "from sklearn.metrics import r2_score\n",
    "r2_score(y_test,y_pred)"
   ]
  },
  {
   "cell_type": "code",
   "execution_count": 40,
   "metadata": {},
   "outputs": [],
   "source": [
    "y_test = y_test.flatten()\n",
    "y_pred = y_pred.flatten()"
   ]
  },
  {
   "cell_type": "code",
   "execution_count": 41,
   "metadata": {},
   "outputs": [
    {
     "data": {
      "image/png": "[encoded data removed]",
      "text/plain": [
       "<Figure size 864x288 with 2 Axes>"
      ]
     },
     "metadata": {},
     "output_type": "display_data"
    }
   ],
   "source": [
    "## Visualising the test and actual results for Kernel SVM Regression model\n",
    "plt.style.use('dark_background')\n",
    "fig, axes = plt.subplots(1,2,figsize=(12,4),sharex=True,sharey=True,squeeze=False)\n",
    "s1 = sns.scatterplot(y_test,mylist,color='lawngreen',ax=axes[0][0])\n",
    "s2 = sns.scatterplot(y_pred,mylist,color='purple',ax=axes[0][1])\n",
    "s1.set_xlabel('Test/Actual total interactions')\n",
    "s2.set_xlabel('Predicted total interactions')\n",
    "plt.setp(axes[:, 0], ylabel='Number of test observations')\n",
    "plt.show()"
   ]
  }
 ],
 "metadata": {
  "kernelspec": {
   "display_name": "Python 3",
   "language": "python",
   "name": "python3"
  },
  "language_info": {
   "codemirror_mode": {
    "name": "ipython",
    "version": 3
   },
   "file_extension": ".py",
   "mimetype": "text/x-python",
   "name": "python",
   "nbconvert_exporter": "python",
   "pygments_lexer": "ipython3",
   "version": "3.7.4"
  }
 },
 "nbformat": 4,
 "nbformat_minor": 2
}
